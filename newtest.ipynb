{
 "cells": [
  {
   "cell_type": "code",
   "execution_count": 1,
   "metadata": {},
   "outputs": [],
   "source": [
    "import os\n",
    "import shutil\n",
    "import logging\n",
    "import git\n",
    "import stat\n",
    "\n",
    "def clone_github_repo(repo_url, clone_dir, branch):\n",
    "    \"\"\"Clone the GitHub repository to the local directory, specifying the branch.\"\"\"\n",
    "    try:\n",
    "        git.Repo.clone_from(repo_url, clone_dir, branch=branch)\n",
    "        logging.info(f\"Cloned GitHub repo: '{repo_url}' branch '{branch}' into '{clone_dir}'\")\n",
    "    except Exception as e:\n",
    "        logging.error(f\"Error cloning repository: {e}\")\n",
    "\n",
    "def copy_project_to_directory(source_directory, target_directory):\n",
    "    \"\"\"Copy the entire project from source_directory to target_directory, retaining specified folders.\"\"\"\n",
    "    os.makedirs(target_directory, exist_ok=True)\n",
    "\n",
    "    try:\n",
    "        for item in os.listdir(source_directory):\n",
    "            source_path = os.path.join(source_directory, item)\n",
    "            target_path = os.path.join(target_directory, item)\n",
    "\n",
    "            if os.path.isdir(source_path):\n",
    "                shutil.copytree(source_path, target_path, dirs_exist_ok=True)\n",
    "            else:\n",
    "                shutil.copy2(source_path, target_path)\n",
    "\n",
    "        logging.info(f\"Copied project from '{source_directory}' to '{target_directory}'\")\n",
    "    except Exception as e:\n",
    "        logging.error(f\"Failed to copy project: {e}\")\n",
    "\n",
    "def remove_readonly(func, path, excinfo):\n",
    "    \"\"\"Function to remove readonly files before deleting.\"\"\"\n",
    "    os.chmod(path, stat.S_IWRITE)  # Change the file's permission to writable\n",
    "    func(path)  # Retry the operation\n",
    "\n",
    "def clean_folder(folder_path):\n",
    "    \"\"\"Removes all files and subdirectories in the specified folder, including the .git directory.\"\"\"\n",
    "    if not os.path.exists(folder_path):\n",
    "        logging.warning(f\"The folder {folder_path} does not exist.\")\n",
    "        return\n",
    "\n",
    "    git_dir = os.path.join(folder_path, '.git')\n",
    "    if os.path.exists(git_dir):\n",
    "        try:\n",
    "            shutil.rmtree(git_dir, onerror=remove_readonly)\n",
    "            logging.info(f\"Removed directory: {git_dir}\")\n",
    "        except Exception as e:\n",
    "            logging.error(f\"Error deleting {git_dir}: {e}\")\n",
    "\n",
    "    for item in os.listdir(folder_path):\n",
    "        item_path = os.path.join(folder_path, item)\n",
    "        try:\n",
    "            if os.path.isfile(item_path):\n",
    "                os.remove(item_path)\n",
    "                logging.info(f\"Removed file: {item_path}\")\n",
    "            elif os.path.isdir(item_path):\n",
    "                shutil.rmtree(item_path, onerror=remove_readonly)\n",
    "                logging.info(f\"Removed directory: {item_path}\")\n",
    "        except Exception as e:\n",
    "            logging.error(f\"Error deleting {item_path}: {e}\")\n",
    "\n",
    "    logging.info(f\"All accessible files and subdirectories in {folder_path} have been removed.\")\n",
    "\n",
    "\n",
    "\n",
    "def clone_code_to_cwd():\n",
    "    \"\"\"Main function to clone or copy a project and retain specified folders.\"\"\"\n",
    "    fixed_target_directory = os.path.join(os.getcwd(), 'Cloned_Project')\n",
    "\n",
    "    # Clean the target directory before processing\n",
    "    \n",
    "\n",
    "    # Determine whether to process from local directory or GitHub\n",
    "    source_type = input(\"Do you want to process from 'local' or 'github'? \").strip().lower()\n",
    "    \n",
    "\n",
    "    if source_type == 'local':\n",
    "        source_directory = input(\"Enter the path to the local directory: \").strip()\n",
    "        if not os.path.exists(source_directory):\n",
    "            print(f\"The directory '{source_directory}' does not exist.\")\n",
    "            return\n",
    "        \n",
    "        clean_folder(fixed_target_directory)\n",
    "        copy_project_to_directory(source_directory, fixed_target_directory)\n",
    "\n",
    "    elif source_type == 'github':\n",
    "        repo_url = input(\"Enter the GitHub repository URL: \").strip()\n",
    "        branch = input(\"Enter the branch name: \").strip()\n",
    "        clean_folder(fixed_target_directory)\n",
    "        clone_github_repo(repo_url, fixed_target_directory,branch)\n",
    "\n",
    "    else:\n",
    "        print(\"Invalid input. Please enter 'local' or 'github'.\")\n",
    "        return\n",
    "\n",
    "    print('Cloning/Copying Completed')\n"
   ]
  },
  {
   "cell_type": "code",
   "execution_count": 15,
   "metadata": {},
   "outputs": [],
   "source": [
    "#  C:\\Users\\conve\\ZA_Project\\chatbot-local-run\\student-management-\n",
    "#\"C:\\\\Users\\\\conve\\\\ZA_Project\\\\chatbot-local-run\\\\student-management-\"\n",
    "#  git@github.com:Kavinkumar1070/Employee-Chat-Application.git"
   ]
  },
  {
   "cell_type": "code",
   "execution_count": 2,
   "metadata": {},
   "outputs": [
    {
     "name": "stdout",
     "output_type": "stream",
     "text": [
      "Cloning/Copying Completed\n"
     ]
    }
   ],
   "source": [
    "clone_code_to_cwd()"
   ]
  },
  {
   "cell_type": "code",
   "execution_count": 19,
   "metadata": {},
   "outputs": [
    {
     "data": {
      "text/plain": [
       "['C:\\\\Users\\\\conve\\\\ZA_Project\\\\chatbot-local-run\\\\code-convertion - nestjs\\\\Cloned_Project\\\\main.py',\n",
       " 'C:\\\\Users\\\\conve\\\\ZA_Project\\\\chatbot-local-run\\\\code-convertion - nestjs\\\\Cloned_Project\\\\chatcode\\\\api_call.py',\n",
       " 'C:\\\\Users\\\\conve\\\\ZA_Project\\\\chatbot-local-run\\\\code-convertion - nestjs\\\\Cloned_Project\\\\chatcode\\\\function.py',\n",
       " 'C:\\\\Users\\\\conve\\\\ZA_Project\\\\chatbot-local-run\\\\code-convertion - nestjs\\\\Cloned_Project\\\\chatcode\\\\onbfunction.py',\n",
       " 'C:\\\\Users\\\\conve\\\\ZA_Project\\\\chatbot-local-run\\\\code-convertion - nestjs\\\\Cloned_Project\\\\migrations\\\\env.py',\n",
       " 'C:\\\\Users\\\\conve\\\\ZA_Project\\\\chatbot-local-run\\\\code-convertion - nestjs\\\\Cloned_Project\\\\migrations\\\\versions\\\\5c1b0e662403_initial_migration.py',\n",
       " 'C:\\\\Users\\\\conve\\\\ZA_Project\\\\chatbot-local-run\\\\code-convertion - nestjs\\\\Cloned_Project\\\\src\\\\dummy_data.py',\n",
       " 'C:\\\\Users\\\\conve\\\\ZA_Project\\\\chatbot-local-run\\\\code-convertion - nestjs\\\\Cloned_Project\\\\src\\\\core\\\\authentication.py',\n",
       " 'C:\\\\Users\\\\conve\\\\ZA_Project\\\\chatbot-local-run\\\\code-convertion - nestjs\\\\Cloned_Project\\\\src\\\\core\\\\database.py',\n",
       " 'C:\\\\Users\\\\conve\\\\ZA_Project\\\\chatbot-local-run\\\\code-convertion - nestjs\\\\Cloned_Project\\\\src\\\\core\\\\utils.py',\n",
       " 'C:\\\\Users\\\\conve\\\\ZA_Project\\\\chatbot-local-run\\\\code-convertion - nestjs\\\\Cloned_Project\\\\src\\\\core\\\\__init__.py',\n",
       " 'C:\\\\Users\\\\conve\\\\ZA_Project\\\\chatbot-local-run\\\\code-convertion - nestjs\\\\Cloned_Project\\\\src\\\\crud\\\\employee.py',\n",
       " 'C:\\\\Users\\\\conve\\\\ZA_Project\\\\chatbot-local-run\\\\code-convertion - nestjs\\\\Cloned_Project\\\\src\\\\crud\\\\leave.py',\n",
       " 'C:\\\\Users\\\\conve\\\\ZA_Project\\\\chatbot-local-run\\\\code-convertion - nestjs\\\\Cloned_Project\\\\src\\\\crud\\\\personal.py',\n",
       " 'C:\\\\Users\\\\conve\\\\ZA_Project\\\\chatbot-local-run\\\\code-convertion - nestjs\\\\Cloned_Project\\\\src\\\\crud\\\\role.py',\n",
       " 'C:\\\\Users\\\\conve\\\\ZA_Project\\\\chatbot-local-run\\\\code-convertion - nestjs\\\\Cloned_Project\\\\src\\\\models\\\\association.py',\n",
       " 'C:\\\\Users\\\\conve\\\\ZA_Project\\\\chatbot-local-run\\\\code-convertion - nestjs\\\\Cloned_Project\\\\src\\\\models\\\\employee.py',\n",
       " 'C:\\\\Users\\\\conve\\\\ZA_Project\\\\chatbot-local-run\\\\code-convertion - nestjs\\\\Cloned_Project\\\\src\\\\models\\\\leave.py',\n",
       " 'C:\\\\Users\\\\conve\\\\ZA_Project\\\\chatbot-local-run\\\\code-convertion - nestjs\\\\Cloned_Project\\\\src\\\\models\\\\personal.py',\n",
       " 'C:\\\\Users\\\\conve\\\\ZA_Project\\\\chatbot-local-run\\\\code-convertion - nestjs\\\\Cloned_Project\\\\src\\\\models\\\\role.py',\n",
       " 'C:\\\\Users\\\\conve\\\\ZA_Project\\\\chatbot-local-run\\\\code-convertion - nestjs\\\\Cloned_Project\\\\src\\\\models\\\\__init__.py',\n",
       " 'C:\\\\Users\\\\conve\\\\ZA_Project\\\\chatbot-local-run\\\\code-convertion - nestjs\\\\Cloned_Project\\\\src\\\\routers\\\\admin.py',\n",
       " 'C:\\\\Users\\\\conve\\\\ZA_Project\\\\chatbot-local-run\\\\code-convertion - nestjs\\\\Cloned_Project\\\\src\\\\routers\\\\employee.py',\n",
       " 'C:\\\\Users\\\\conve\\\\ZA_Project\\\\chatbot-local-run\\\\code-convertion - nestjs\\\\Cloned_Project\\\\src\\\\routers\\\\general.py',\n",
       " 'C:\\\\Users\\\\conve\\\\ZA_Project\\\\chatbot-local-run\\\\code-convertion - nestjs\\\\Cloned_Project\\\\src\\\\routers\\\\leave.py',\n",
       " 'C:\\\\Users\\\\conve\\\\ZA_Project\\\\chatbot-local-run\\\\code-convertion - nestjs\\\\Cloned_Project\\\\src\\\\routers\\\\personal.py',\n",
       " 'C:\\\\Users\\\\conve\\\\ZA_Project\\\\chatbot-local-run\\\\code-convertion - nestjs\\\\Cloned_Project\\\\src\\\\routers\\\\role.py',\n",
       " 'C:\\\\Users\\\\conve\\\\ZA_Project\\\\chatbot-local-run\\\\code-convertion - nestjs\\\\Cloned_Project\\\\src\\\\routers\\\\__init__.py',\n",
       " 'C:\\\\Users\\\\conve\\\\ZA_Project\\\\chatbot-local-run\\\\code-convertion - nestjs\\\\Cloned_Project\\\\src\\\\schemas\\\\authentication.py',\n",
       " 'C:\\\\Users\\\\conve\\\\ZA_Project\\\\chatbot-local-run\\\\code-convertion - nestjs\\\\Cloned_Project\\\\src\\\\schemas\\\\employee.py',\n",
       " 'C:\\\\Users\\\\conve\\\\ZA_Project\\\\chatbot-local-run\\\\code-convertion - nestjs\\\\Cloned_Project\\\\src\\\\schemas\\\\leave.py',\n",
       " 'C:\\\\Users\\\\conve\\\\ZA_Project\\\\chatbot-local-run\\\\code-convertion - nestjs\\\\Cloned_Project\\\\src\\\\schemas\\\\personal.py',\n",
       " 'C:\\\\Users\\\\conve\\\\ZA_Project\\\\chatbot-local-run\\\\code-convertion - nestjs\\\\Cloned_Project\\\\src\\\\schemas\\\\role.py',\n",
       " 'C:\\\\Users\\\\conve\\\\ZA_Project\\\\chatbot-local-run\\\\code-convertion - nestjs\\\\Cloned_Project\\\\src\\\\schemas\\\\__init__.py']"
      ]
     },
     "execution_count": 19,
     "metadata": {},
     "output_type": "execute_result"
    }
   ],
   "source": [
    "import os\n",
    "import shutil\n",
    "\n",
    "# Function to list files with a specific extension in a folder\n",
    "def list_files(folder_path, file_extension):\n",
    "    all_files = []\n",
    "    for root, dirs, files in os.walk(folder_path):\n",
    "        for file in files:\n",
    "            if file.endswith(file_extension):\n",
    "                file_path = os.path.join(root, file)\n",
    "                all_files.append(file_path)\n",
    "    return all_files\n",
    "\n",
    "\n",
    "# Parameters\n",
    "source_folder = r\"C:\\Users\\conve\\ZA_Project\\chatbot-local-run\\code-convertion - nestjs\\Cloned_Project\"\n",
    "file_extension = \".py\"\n",
    "\n",
    "# List all files with the chosen extension\n",
    "all_files = list_files(source_folder, file_extension)\n",
    "all_files\n",
    "\n"
   ]
  },
  {
   "cell_type": "code",
   "execution_count": null,
   "metadata": {},
   "outputs": [
    {
     "name": "stdout",
     "output_type": "stream",
     "text": [
      "Copied 2 files to 'C:\\Users\\conve\\ZA_Project\\chatbot-local-run\\code-convertion - nestjs\\src\\routers'\n",
      "Copied 1 files to 'C:\\Users\\conve\\ZA_Project\\chatbot-local-run\\code-convertion - nestjs\\src\\schemas'\n"
     ]
    }
   ],
   "source": [
    "\n",
    "# Function to copy selected files to a specified folder\n",
    "def copy_selected_files(file_list, destination_folder):\n",
    "    if not os.path.exists(destination_folder):\n",
    "        os.makedirs(destination_folder)\n",
    "    \n",
    "    for file in file_list:\n",
    "        file_name = os.path.basename(file)\n",
    "        destination_path = os.path.join(destination_folder, file_name)\n",
    "        shutil.copy(file, destination_path)\n",
    "        \n",
    "# Copy selected files to 'routers' folder\n",
    "routers_files = all_files[-13:-6] # Adjust selection as needed\n",
    "routers_destination = r\"C:\\Users\\conve\\ZA_Project\\chatbot-local-run\\code-convertion - nestjs\\src\\routers\"\n",
    "copy_selected_files(routers_files, routers_destination)\n",
    "print(f\"Copied {len(routers_files)} files to '{routers_destination}'\")\n",
    "\n",
    "# Copy selected files to 'schemas' folder\n",
    "schemas_files = all_files[-6:]  # Adjust selection as needed\n",
    "schemas_destination = r\"C:\\Users\\conve\\ZA_Project\\chatbot-local-run\\code-convertion - nestjs\\src\\schemas\"\n",
    "copy_selected_files(schemas_files, schemas_destination)\n",
    "print(f\"Copied {len(schemas_files)} files to '{schemas_destination}'\")\n"
   ]
  },
  {
   "cell_type": "code",
   "execution_count": null,
   "metadata": {},
   "outputs": [],
   "source": []
  },
  {
   "cell_type": "code",
   "execution_count": null,
   "metadata": {},
   "outputs": [],
   "source": []
  },
  {
   "cell_type": "code",
   "execution_count": null,
   "metadata": {},
   "outputs": [],
   "source": []
  },
  {
   "cell_type": "code",
   "execution_count": null,
   "metadata": {},
   "outputs": [],
   "source": []
  }
 ],
 "metadata": {
  "kernelspec": {
   "display_name": "Python 3",
   "language": "python",
   "name": "python3"
  },
  "language_info": {
   "codemirror_mode": {
    "name": "ipython",
    "version": 3
   },
   "file_extension": ".py",
   "mimetype": "text/x-python",
   "name": "python",
   "nbconvert_exporter": "python",
   "pygments_lexer": "ipython3",
   "version": "3.11.6"
  }
 },
 "nbformat": 4,
 "nbformat_minor": 2
}
